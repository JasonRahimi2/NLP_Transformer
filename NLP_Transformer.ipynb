{
 "cells": [
  {
   "cell_type": "code",
   "execution_count": 16,
   "id": "7f1c9663-c238-4d86-87f3-b5ecdb87437b",
   "metadata": {},
   "outputs": [],
   "source": [
    "#Import libraries\n",
    "import pandas as pd\n",
    "import numpy as np\n",
    "from sklearn.model_selection import train_test_split\n",
    "from transformers import DistilBertTokenizer\n",
    "import tensorflow as tf"
   ]
  },
  {
   "cell_type": "code",
   "execution_count": null,
   "id": "b5f1d9ea-7f3e-4ae8-96a3-277f17064169",
   "metadata": {},
   "outputs": [],
   "source": [
    "#Load restaurant reviews dataset into pandas DataFrame\n",
    "data = pd.read_csv('/Restaurant_Reviews.csv', header=None, names=['Review', 'Liked'])\n",
    "data = data.dropna(subset=['Review', 'Liked'])  #Remove rows where either the review text or label is missing\n",
    "\n",
    "#Map common string labels to integers\n",
    "label_mapping = {\n",
    "    'positive': 1, 'Positive': 1, '1': 1, 1: 1,\n",
    "    'negative': 0, 'Negative': 0, '0': 0, 0: 0\n",
    "}\n",
    "data['Liked'] = data['Liked'].map(label_mapping)\n",
    "\n",
    "#Remove rows with unmapped (invalid) labels\n",
    "data = data.dropna(subset=['Liked'])\n",
    "\n",
    "data['Liked'] = data['Liked'].astype('int32')\n",
    "\n",
    "#Ensure binary labels\n",
    "data = data[data['Liked'].isin([0, 1])]\n",
    "\n",
    "print(\"Class distribution after cleaning:\")\n",
    "print(data['Liked'].value_counts())"
   ]
  },
  {
   "cell_type": "code",
   "execution_count": null,
   "id": "103ca939-0829-4467-91eb-2506586540a7",
   "metadata": {},
   "outputs": [],
   "source": [
    "#Check structure of dataset\n",
    "data.info()"
   ]
  },
  {
   "cell_type": "code",
   "execution_count": 19,
   "id": "70933565-5bf1-4524-beed-dabca7c17077",
   "metadata": {},
   "outputs": [],
   "source": [
    "#Separate features (X) and labels (y) for model training\n",
    "reviews = data['Review'].values\n",
    "labels = data['Liked'].values  #Binary (0=negative, 1=positive)"
   ]
  },
  {
   "cell_type": "code",
   "execution_count": 20,
   "id": "af11d447-167f-4198-b2cb-30221f4ef7c9",
   "metadata": {},
   "outputs": [],
   "source": [
    "#Split dataset into training and validation sets\n",
    "train_texts, val_texts, train_labels, val_labels = train_test_split(\n",
    "    reviews, labels, test_size=0.2\n",
    ")"
   ]
  },
  {
   "cell_type": "code",
   "execution_count": 21,
   "id": "6afb7505-1041-49c2-9b07-09270c8f2883",
   "metadata": {},
   "outputs": [],
   "source": [
    "#Initialize the DistilBERT tokenizer\n",
    "tokenizer = DistilBertTokenizer.from_pretrained('distilbert-base-uncased')"
   ]
  },
  {
   "cell_type": "code",
   "execution_count": 22,
   "id": "3f9d0cf9-6e16-440e-bc63-0a02406a77c7",
   "metadata": {},
   "outputs": [],
   "source": [
    "#Function to tokenize and encode text data for DistilBERT\n",
    "def encode_texts(texts, max_length=100):\n",
    "    encodings = tokenizer(\n",
    "        texts.tolist(),\n",
    "        max_length=max_length,\n",
    "        padding='max_length',\n",
    "        truncation=True,\n",
    "        return_tensors='tf'\n",
    "    )\n",
    "    return encodings\n",
    "\n",
    "#Apply tokenization to training and validation sets\n",
    "train_encodings = encode_texts(train_texts, max_length=100)\n",
    "val_encodings = encode_texts(val_texts, max_length=100)"
   ]
  },
  {
   "cell_type": "code",
   "execution_count": 23,
   "id": "46e7e310-08fa-4d39-87bd-eeb175d7c381",
   "metadata": {},
   "outputs": [],
   "source": [
    "#Convert tokenized data and labels into TensorFlow Dataset objects\n",
    "train_dataset = tf.data.Dataset.from_tensor_slices((\n",
    "    dict(train_encodings),\n",
    "    train_labels\n",
    ")).shuffle(1000).batch(16)\n",
    "\n",
    "val_dataset = tf.data.Dataset.from_tensor_slices((\n",
    "    dict(val_encodings),\n",
    "    val_labels\n",
    ")).batch(16)"
   ]
  },
  {
   "cell_type": "code",
   "execution_count": 24,
   "id": "e356863f-a505-4bb9-9817-6b467e589201",
   "metadata": {},
   "outputs": [],
   "source": [
    "#Import model architecture and optimizer for fine-tuning DistilBERT\n",
    "from transformers import TFDistilBertForSequenceClassification\n",
    "from tensorflow.keras.optimizers import Adam"
   ]
  },
  {
   "cell_type": "code",
   "execution_count": null,
   "id": "ca2db217-0f45-4016-bfd0-4441c35c3219",
   "metadata": {},
   "outputs": [],
   "source": [
    "#Load pre-trained DistilBERT model for binary classification\n",
    "model = TFDistilBertForSequenceClassification.from_pretrained(\n",
    "    'distilbert-base-uncased',\n",
    "    num_labels=2\n",
    ")"
   ]
  },
  {
   "cell_type": "code",
   "execution_count": 26,
   "id": "7b2ce6df-39be-4982-9773-c29cfe16c68d",
   "metadata": {},
   "outputs": [],
   "source": [
    "#Compile the model\n",
    "model.compile(\n",
    "    optimizer='adam',\n",
    "    loss='sparse_categorical_crossentropy',\n",
    "    metrics=['accuracy']\n",
    ")\n",
    "model.optimizer.learning_rate = 1e-5  #Set the learning rate"
   ]
  },
  {
   "cell_type": "code",
   "execution_count": null,
   "id": "86b6f25e-2e3f-4248-a643-d0a29bd62d2f",
   "metadata": {},
   "outputs": [],
   "source": [
    "#Fine-tune the pretrained model\n",
    "history = model.fit(\n",
    "    train_dataset,\n",
    "    validation_data=val_dataset,\n",
    "    epochs=4\n",
    ")"
   ]
  },
  {
   "cell_type": "code",
   "execution_count": 28,
   "id": "11a12fec-e0cc-49f5-ad27-2dcddd754c75",
   "metadata": {},
   "outputs": [],
   "source": [
    "#Develop function for sentiment analysis\n",
    "def predict_sentiment(model, tokenizer, texts, max_length=100):\n",
    "    if isinstance(texts, str):\n",
    "        texts = [texts]\n",
    "    \n",
    "    #Tokenize input texts into tensors\n",
    "    encodings = tokenizer(\n",
    "        texts,\n",
    "        max_length=max_length,\n",
    "        padding='max_length',\n",
    "        truncation=True,\n",
    "        return_tensors='tf'\n",
    "    )\n",
    "\n",
    "    #Run the model to get output scores (logits)\n",
    "    logits = model.predict(dict(encodings)).logits\n",
    "\n",
    "    #Determine probability calculation method based on output shape\n",
    "    if logits.shape[1] == 1:\n",
    "        #Sigmoid for single neuron output\n",
    "        positive_probs = tf.nn.sigmoid(logits).numpy().flatten()\n",
    "        negative_probs = 1 - positive_probs\n",
    "        predictions = (positive_probs >= 0.5).astype(int)\n",
    "    else:\n",
    "        #Softmax for two neuron output\n",
    "        probs = tf.nn.softmax(logits, axis=-1).numpy()\n",
    "        positive_probs = probs[:, 1]\n",
    "        negative_probs = probs[:, 0]\n",
    "        predictions = np.argmax(probs, axis=-1)\n",
    "\n",
    "    label_map = {0: 'Negative', 1: 'Positive'}\n",
    "    \n",
    "    results = [\n",
    "        {\n",
    "            'text': text,\n",
    "            'label': label_map[pred],\n",
    "            'probability': float(positive_probs[i] if pred == 1 else negative_probs[i]),\n",
    "            'negative_prob': float(negative_probs[i]),\n",
    "            'positive_prob': float(positive_probs[i])\n",
    "        }\n",
    "        for i, (text, pred) in enumerate(zip(texts, predictions))\n",
    "    ]\n",
    "\n",
    "    return results"
   ]
  },
  {
   "cell_type": "code",
   "execution_count": 29,
   "id": "e830d012-b55b-406f-98b1-ce1834193806",
   "metadata": {},
   "outputs": [
    {
     "name": "stdout",
     "output_type": "stream",
     "text": [
      "1/1 [==============================] - 0s 498ms/step\n",
      "Text: The food was good\n",
      "Predicted Label: Positive\n",
      "Probability: 0.5280\n",
      "Negative Prob: 0.4720, Positive Prob: 0.5280\n",
      "\n"
     ]
    }
   ],
   "source": [
    "#Test strings\n",
    "test_strings = [\n",
    "    \"The food was good\"\n",
    "]\n",
    "\n",
    "#Predict results\n",
    "results = predict_sentiment(model, tokenizer, test_strings)\n",
    "\n",
    "#Print results\n",
    "for result in results:\n",
    "    print(f\"Text: {result['text']}\")\n",
    "    print(f\"Predicted Label: {result['label']}\")\n",
    "    print(f\"Probability: {result['probability']:.4f}\")\n",
    "    print(f\"Negative Prob: {result['negative_prob']:.4f}, Positive Prob: {result['positive_prob']:.4f}\")\n",
    "    print()"
   ]
  }
 ],
 "metadata": {
  "kernelspec": {
   "display_name": "Python 3 (ipykernel)",
   "language": "python",
   "name": "python3"
  },
  "language_info": {
   "codemirror_mode": {
    "name": "ipython",
    "version": 3
   },
   "file_extension": ".py",
   "mimetype": "text/x-python",
   "name": "python",
   "nbconvert_exporter": "python",
   "pygments_lexer": "ipython3",
   "version": "3.11.11"
  }
 },
 "nbformat": 4,
 "nbformat_minor": 5
}
